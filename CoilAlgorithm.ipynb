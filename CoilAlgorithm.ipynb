{
 "cells": [
  {
   "cell_type": "code",
   "execution_count": 57,
   "metadata": {},
   "outputs": [
    {
     "name": "stdout",
     "output_type": "stream",
     "text": [
      "/Volumes/Transcend/repos/fingerprint_viewer\r\n"
     ]
    }
   ],
   "source": [
    "!pwd"
   ]
  },
  {
   "cell_type": "code",
   "execution_count": 39,
   "metadata": {
    "collapsed": true
   },
   "outputs": [],
   "source": [
    "some_word_list = ['zero','uno','dos','tres','quatro','cinco','seis','siete','ocho','nueve','diez','onze','doce','trece','catorze','one','two','three','four','five','six','seven','eight','nine','ten']"
   ]
  },
  {
   "cell_type": "markdown",
   "metadata": {},
   "source": [
    "# define grid directions\n",
    "## top left corner centered\n",
    "* top left is 0,0 (x,y)\n",
    "* right movement is x+\n",
    "* left movement is x-\n",
    "* up movement is y-\n",
    "* down movement is y+"
   ]
  },
  {
   "cell_type": "code",
   "execution_count": 56,
   "metadata": {},
   "outputs": [
    {
     "name": "stdout",
     "output_type": "stream",
     "text": [
      "2 2\n",
      "y 1 2 1\n",
      "x 1 1 1\n",
      "y 2 1 2\n",
      "y 2 1 3\n",
      "x 2 2 3\n",
      "x 2 3 3\n",
      "y 3 3 2\n",
      "y 3 3 1\n",
      "y 3 3 0\n",
      "x 3 2 0\n",
      "x 3 1 0\n",
      "x 3 0 0\n",
      "y 4 0 1\n",
      "y 4 0 2\n",
      "y 4 0 3\n",
      "y 4 0 4\n",
      "x 4 1 4\n",
      "x 4 2 4\n",
      "x 4 3 4\n",
      "x 4 4 4\n",
      "['doce', 'trece', 'catorze', 'one', 'two']\n",
      "['onze', 'dos', 'tres', 'quatro', 'three']\n",
      "['diez', 'uno', 'zero', 'cinco', 'four']\n",
      "['nueve', 'ocho', 'siete', 'seis', 'five']\n",
      "['', '', '', '', 'six']\n"
     ]
    }
   ],
   "source": [
    "# Assuming we are passed 'center' of 4x4 grid, whose center is 1,1\n",
    "\n",
    "xinit = 1\n",
    "yinit = 1\n",
    "\n",
    "wordmatrix = [\n",
    "    ['','','','',''],\n",
    "    ['','','','',''],\n",
    "    ['','','','',''],\n",
    "    ['','','','',''],\n",
    "    ['','','','',''],    \n",
    "]\n",
    "\n",
    "def curl_list_around_xy(x, y, box_size, wordmatrix, wordlist):\n",
    "    direction = 1\n",
    "    iteration = 1\n",
    "    coordinates = []\n",
    "    xdir = -1\n",
    "    ydir = -1\n",
    "\n",
    "    iterl = 0\n",
    "    print x,y\n",
    "    wordmatrix[x][y] = wordlist[iterl]\n",
    "    iterl += 1\n",
    "    for iteration in range(1,box_size+1):\n",
    "        for idy in range(1,iteration+1):\n",
    "            y = y + 1*ydir\n",
    "            print \"y\",iteration, x, y\n",
    "            wordmatrix[x][y] = wordlist[iterl]\n",
    "            iterl += 1\n",
    "        ydir *= -1\n",
    "        for idx in range(1,iteration+1):\n",
    "            x = x + 1*xdir\n",
    "            print \"x\",iteration, x, y\n",
    "            wordmatrix[x][y] = wordlist[iterl]\n",
    "            iterl += 1\n",
    "        xdir *= -1\n",
    "        if x >= 4 or y >= 4:\n",
    "            break\n",
    "    return wordmatrix\n",
    "\n",
    "\n",
    "    \n",
    "\n",
    "\n",
    "curl_list_around_xy(2,2,4,wordmatrix, some_word_list)\n",
    "for line in wordmatrix:\n",
    "    print line"
   ]
  },
  {
   "cell_type": "code",
   "execution_count": 2,
   "metadata": {
    "collapsed": true
   },
   "outputs": [],
   "source": [
    "def coil_to_box(x_top_right, y_top_right, box_size, wordlist):\n",
    "    \"\"\"\n",
    "    x_top_right: int, x location of top right subbox in larger matrix\n",
    "    y_top_right: int, y location of top right subbox in larger matrix\n",
    "    box_size: int, number of dots/pixels for box\n",
    "    wordlist: list<strings>, list of words, assuming in order of priority from 0 to length.\n",
    "    ** Assumptions\n",
    "    - box is square\n",
    "    - words will coil from center and circle out\n",
    "    - words will be taken from list to fill box, remainder will be ignored, and missing will be blank\n",
    "    return: list<string> where each string is \"word (x,y)\"\n",
    "    \"\"\"\n",
    "    direction = 1\n",
    "    iteration = 1\n",
    "    coordinates = []\n",
    "    xdir = -1\n",
    "    ydir = -1\n",
    "\n",
    "    iterl = 0\n",
    "    print x,y\n",
    "    wordmatrix[x][y] = wordlist[iterl]\n",
    "    iterl += 1\n",
    "    for iteration in range(1,box_size+1):\n",
    "        for idy in range(1,iteration+1):\n",
    "            y = y + 1*ydir\n",
    "            print \"y\",iteration, x, y\n",
    "            wordmatrix[x][y] = wordlist[iterl]\n",
    "            iterl += 1\n",
    "        ydir *= -1\n",
    "        for idx in range(1,iteration+1):\n",
    "            x = x + 1*xdir\n",
    "            print \"x\",iteration, x, y\n",
    "            wordmatrix[x][y] = wordlist[iterl]\n",
    "            iterl += 1\n",
    "        xdir *= -1\n",
    "        if x >= 4 or y >= 4:\n",
    "            break\n",
    "    return wordmatrix"
   ]
  },
  {
   "cell_type": "code",
   "execution_count": 27,
   "metadata": {},
   "outputs": [
    {
     "name": "stdout",
     "output_type": "stream",
     "text": [
      "10 10\n",
      "10 9\n",
      "9 9\n",
      "9 10\n",
      "9 11\n",
      "10 11\n",
      "11 11\n",
      "11 10\n",
      "11 9\n",
      "11 8\n",
      "10 8\n",
      "9 8\n"
     ]
    }
   ],
   "source": [
    "\n",
    "class Swirl:\n",
    "    def __init__(self, x_init, y_init):\n",
    "        self.x = x_init\n",
    "        self.y = y_init\n",
    "        self.dir = (0,-1)\n",
    "        self.iteration_length = 1\n",
    "        self.iteration = 0\n",
    "        \n",
    "        self.display()\n",
    "\n",
    "    def turn(self):\n",
    "        if self.dir == (0,-1):\n",
    "            self.dir = (-1,0)\n",
    "        elif self.dir == (-1,0):\n",
    "            self.dir = (0,1)\n",
    "            self.iteration_length += 1\n",
    "        elif self.dir == (0,1):\n",
    "            self.dir = (1,0)\n",
    "        elif self.dir == (1,0):\n",
    "            self.dir = (0,-1)\n",
    "            self.iteration_length += 1\n",
    "        else:\n",
    "            raise \"Invalid direction\"\n",
    "            \n",
    "    def step(self):\n",
    "        if self.iteration >= self.iteration_length:\n",
    "            self.iteration = 0\n",
    "            self.turn()\n",
    "            \n",
    "        if self.dir == (1,0) or self.dir == (-1,0):\n",
    "            self.iteration += 1\n",
    "            self.x += self.dir[0]\n",
    "        else:\n",
    "            self.iteration += 1\n",
    "            self.y += self.dir[1]\n",
    "        self.display()\n",
    "\n",
    "    def display(self):\n",
    "        print self.x, self.y #, self.dir, self.iteration, self.iteration_length\n",
    "        \n",
    "m = Swirl(10,10)\n",
    "for i in range(11):\n",
    "    m.step()"
   ]
  }
 ],
 "metadata": {
  "kernelspec": {
   "display_name": "Python 2",
   "language": "python",
   "name": "python2"
  },
  "language_info": {
   "codemirror_mode": {
    "name": "ipython",
    "version": 2
   },
   "file_extension": ".py",
   "mimetype": "text/x-python",
   "name": "python",
   "nbconvert_exporter": "python",
   "pygments_lexer": "ipython2",
   "version": "2.7.10"
  }
 },
 "nbformat": 4,
 "nbformat_minor": 1
}
